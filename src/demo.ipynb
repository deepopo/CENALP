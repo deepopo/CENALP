{
 "cells": [
  {
   "cell_type": "code",
   "execution_count": 1,
   "metadata": {},
   "outputs": [],
   "source": [
    "# -*- coding: utf-8 -*-\n",
    "from CENALP import CENALP\n",
    "# import ipynb\n",
    "# from ipynb.fs.full.CENALP import CENALP\n",
    "import pandas as pd\n",
    "from utils import *\n",
    "import warnings\n",
    "import argparse\n",
    "warnings.filterwarnings('ignore')\n"
   ]
  },
  {
   "cell_type": "code",
   "execution_count": 2,
   "metadata": {},
   "outputs": [],
   "source": [
    "\n",
    "def read_alignment(alignment_folder, filename):\n",
    "    alignment = pd.read_csv(alignment_folder + filename + '.csv', header = None)\n",
    "    alignment_dict = {}\n",
    "    alignment_dict_reversed = {}\n",
    "    for i in range(len(alignment)):\n",
    "        alignment_dict[alignment.iloc[i, 0]] = alignment.iloc[i, 1]\n",
    "        alignment_dict_reversed[alignment.iloc[i, 1]] = alignment.iloc[i, 0]\n",
    "    return alignment_dict, alignment_dict_reversed\n"
   ]
  },
  {
   "cell_type": "code",
   "execution_count": 3,
   "metadata": {},
   "outputs": [],
   "source": [
    "\n",
    "def read_attribute(attribute_folder, filename, G1, G2):\n",
    "    try:\n",
    "        attribute, attr1, attr2 = load_attribute(attribute_folder, filename, G1, G2)\n",
    "        attribute = attribute.transpose()\n",
    "    except:\n",
    "        attr1 = []\n",
    "        attr2 = []\n",
    "        attribute = []\n",
    "        print('Attribute files not found.')\n",
    "    return attribute, attr1, attr2\n",
    "    \n"
   ]
  },
  {
   "cell_type": "code",
   "execution_count": 4,
   "metadata": {},
   "outputs": [],
   "source": [
    "def parse_args():\n",
    "    '''\n",
    "    Parses the CLF arguments.\n",
    "    '''\n",
    "    # parser = argparse.ArgumentParser(description=\"Run CENALP.\")\n",
    "    # parser.add_argument('--attribute_folder', nargs='?', default='../attribute/', \n",
    "    #                     help='Input attribute path')\n",
    "    \n",
    "    # parser.add_argument('--data_folder', nargs='?', default='../graph/', \n",
    "    #                     help='Input graph data path')\n",
    "    # parser.add_argument('--alignment_folder', nargs='?', default='../alignment/', \n",
    "    #                     help='Input ground truth alignment path')\n",
    "    # parser.add_argument('--filename', nargs='?', default='bigtoy',\n",
    "    #                     help='Name of file')\n",
    "    # parser.add_argument('--alpha', type=int, default=5,\n",
    "    #                     help=\"Hyperparameter controlling the distribution of vertices' similairties\")\n",
    "    # parser.add_argument('--layer', type=int, default=3,\n",
    "    #                     help=\"Depth of neighbors\")\n",
    "    # parser.add_argument('--align_train_prop', type=float, default=0.0,\n",
    "    #                     help=\"Proportion of training set. 0 represents unsupervised learning.\")\n",
    "    # parser.add_argument('--q', type=float, default=0.5,\n",
    "    #                     help=\"Probability of walking to the separate network during random walk\")    \n",
    "    # parser.add_argument('--c', type=float, default=0.5,\n",
    "    #                     help=\"Weight between sub-graph similarity and attribute similarity\")    \n",
    "    # parser.add_argument('--multi_walk', type=bool, default=False,\n",
    "    #                     help=\"Whether to use multi-processing\")    \n",
    "    # return parser.parse_args()\n",
    "    import easydict\n",
    "    args = easydict.EasyDict({\n",
    "        'attribute_folder':'../attribute/',\n",
    "        \"data_folder\":'../graph/',\n",
    "        \"alignment_folder\":'../alignment/',\n",
    "        'filename':'bigtoy',\n",
    "        'alpha':'5',\n",
    "        'layer':'3',\n",
    "        'align_train_prop':'0',\n",
    "        'q':'0.5',\n",
    "        'c':'0.5',\n",
    "        'multi_walk':'False'\n",
    "    })\n",
    "    return args\n"
   ]
  },
  {
   "cell_type": "code",
   "execution_count": 5,
   "metadata": {},
   "outputs": [],
   "source": [
    "\n",
    "def main(args):\n",
    "    alignment_dict, alignment_dict_reversed = read_alignment(args.alignment_folder, args.filename)\n",
    "    G1, G2 = loadG(args.data_folder, args.filename)\n",
    "    attribute, attr1, attr2 = read_attribute(args.attribute_folder, args.filename, G1, G2)\n",
    "    S, precision, seed_l1, seed_l2 = CENALP(G1, G2, args.q, attr1, attr2, attribute, alignment_dict, alignment_dict_reversed, \n",
    "       args.layer, args.align_train_prop, args.alpha, args.c, args.multi_walk)\n",
    "    print(\"cosine similarity:\", S)\n",
    "    print(\"precision:\",precision)\n",
    "    print(f\"seed_l1: {seed_l1}, seed_l2: {seed_l2}\")\n"
   ]
  },
  {
   "cell_type": "code",
   "execution_count": 6,
   "metadata": {},
   "outputs": [
    {
     "name": "stdout",
     "output_type": "stream",
     "text": [
      "Add seed links : 0\t------ The current iteration : 1 ------\n",
      "structing...finished!\n",
      "walking..."
     ]
    },
    {
     "name": "stderr",
     "output_type": "stream",
     "text": [
      "100%|██████████| 20/20 [00:08<00:00,  2.37it/s]\n"
     ]
    },
    {
     "name": "stdout",
     "output_type": "stream",
     "text": [
      "finished!\n",
      "embedding...finished!\n",
      "Add seed nodes : 5\tAll seed accuracy : 20.00%\n",
      "Add seed links: 3\n",
      "Alignment Precision : 20.00%\tRecall :  0.67%\n",
      "Link Precision : 66.67%\tRecall :  0.36%\n",
      "------ The current iteration : 2 ------\n",
      "structing...finished!\n",
      "walking..."
     ]
    },
    {
     "name": "stderr",
     "output_type": "stream",
     "text": [
      "100%|██████████| 20/20 [00:05<00:00,  3.37it/s]\n"
     ]
    },
    {
     "name": "stdout",
     "output_type": "stream",
     "text": [
      "finished!\n",
      "embedding...finished!\n",
      "Add seed nodes : 5\tAll seed accuracy : 20.00%\n",
      "Add seed links: 1\n",
      "Alignment Precision : 20.00%\tRecall :  1.33%\n",
      "Link Precision : 75.00%\tRecall :  0.53%\n",
      "------ The current iteration : 3 ------\n",
      "structing...finished!\n",
      "walking..."
     ]
    },
    {
     "name": "stderr",
     "output_type": "stream",
     "text": [
      "100%|██████████| 20/20 [00:07<00:00,  2.82it/s]\n"
     ]
    },
    {
     "name": "stdout",
     "output_type": "stream",
     "text": [
      "finished!\n",
      "embedding...finished!\n",
      "Add seed nodes : 5\tAll seed accuracy : 13.33%\n",
      "Add seed links: 5\n",
      "Alignment Precision : 13.33%\tRecall :  1.33%\n",
      "Link Precision : 66.67%\tRecall :  1.07%\n",
      "------ The current iteration : 4 ------\n",
      "structing...finished!\n",
      "walking..."
     ]
    },
    {
     "name": "stderr",
     "output_type": "stream",
     "text": [
      "100%|██████████| 20/20 [00:06<00:00,  2.92it/s]\n"
     ]
    },
    {
     "name": "stdout",
     "output_type": "stream",
     "text": [
      "finished!\n",
      "embedding...finished!\n",
      "Add seed nodes : 7\tAll seed accuracy : 9.09%\n",
      "Add seed links: 23\n",
      "Alignment Precision : 9.09%\tRecall :  1.33%\n",
      "Link Precision : 65.62%\tRecall :  3.74%\n",
      "------ The current iteration : 5 ------\n",
      "structing...finished!\n",
      "walking..."
     ]
    },
    {
     "name": "stderr",
     "output_type": "stream",
     "text": [
      "100%|██████████| 20/20 [00:07<00:00,  2.58it/s]\n"
     ]
    },
    {
     "name": "stdout",
     "output_type": "stream",
     "text": [
      "finished!\n",
      "embedding...finished!\n",
      "Add seed nodes : 11\tAll seed accuracy : 30.30%\n",
      "Add seed links: 33\n",
      "Alignment Precision : 30.30%\tRecall :  6.67%\n",
      "Link Precision : 69.23%\tRecall :  8.01%\n",
      "------ The current iteration : 6 ------\n",
      "structing...finished!\n",
      "walking..."
     ]
    },
    {
     "name": "stderr",
     "output_type": "stream",
     "text": [
      "100%|██████████| 20/20 [00:05<00:00,  3.48it/s]\n"
     ]
    },
    {
     "name": "stdout",
     "output_type": "stream",
     "text": [
      "finished!\n",
      "embedding...finished!\n",
      "Add seed nodes : 17\tAll seed accuracy : 40.00%\n",
      "Add seed links: 6\n",
      "Alignment Precision : 40.00%\tRecall :  13.33%\n",
      "Link Precision : 73.24%\tRecall :  9.25%\n",
      "------ The current iteration : 7 ------\n",
      "structing...finished!\n",
      "walking..."
     ]
    },
    {
     "name": "stderr",
     "output_type": "stream",
     "text": [
      "100%|██████████| 20/20 [00:06<00:00,  3.29it/s]\n"
     ]
    },
    {
     "name": "stdout",
     "output_type": "stream",
     "text": [
      "finished!\n",
      "embedding...finished!\n",
      "Add seed nodes : 25\tAll seed accuracy : 42.67%\n",
      "Add seed links: 24\n",
      "Alignment Precision : 42.67%\tRecall :  21.33%\n",
      "Link Precision : 67.37%\tRecall :  11.39%\n",
      "------ The current iteration : 8 ------\n",
      "structing...finished!\n",
      "walking..."
     ]
    },
    {
     "name": "stderr",
     "output_type": "stream",
     "text": [
      "100%|██████████| 20/20 [00:05<00:00,  3.47it/s]\n"
     ]
    },
    {
     "name": "stdout",
     "output_type": "stream",
     "text": [
      "finished!\n",
      "embedding...finished!\n",
      "Add seed nodes : 38\tAll seed accuracy : 46.02%\n",
      "Add seed links: 144\n",
      "Alignment Precision : 46.02%\tRecall :  34.67%\n",
      "Link Precision : 51.05%\tRecall :  21.71%\n",
      "------ The current iteration : 9 ------\n",
      "structing...finished!\n",
      "walking..."
     ]
    },
    {
     "name": "stderr",
     "output_type": "stream",
     "text": [
      "100%|██████████| 20/20 [00:05<00:00,  3.59it/s]\n"
     ]
    },
    {
     "name": "stdout",
     "output_type": "stream",
     "text": [
      "finished!\n",
      "embedding...finished!\n",
      "Add seed nodes : 37\tAll seed accuracy : 48.00%\n",
      "Add seed links: 307\n",
      "Alignment Precision : 48.00%\tRecall :  48.00%\n",
      "Link Precision : 55.68%\tRecall :  54.09%\n",
      "------ The current iteration : 10 ------\n",
      "structing...finished!\n",
      "walking..."
     ]
    },
    {
     "name": "stderr",
     "output_type": "stream",
     "text": [
      "100%|██████████| 20/20 [00:05<00:00,  3.70it/s]\n"
     ]
    },
    {
     "name": "stdout",
     "output_type": "stream",
     "text": [
      "finished!\n",
      "embedding...finished!\n",
      "Done\n",
      "cosine similarity: [[0.7492528  0.7439823  0.69976497 ... 0.17392927 0.24853235 0.22678429]\n",
      " [0.49814335 0.63961244 0.59711134 ... 0.12125165 0.35946974 0.35100764]\n",
      " [0.748039   0.71133035 0.7702662  ... 0.13168018 0.27623287 0.2720456 ]\n",
      " ...\n",
      " [0.12455066 0.20494758 0.10217551 ... 0.929042   0.09852224 0.08852927]\n",
      " [0.2906841  0.3920452  0.3035951  ... 0.15457956 0.9992888  0.9956866 ]\n",
      " [0.2917985  0.39415795 0.30558318 ... 0.13690534 0.99606675 0.9991145 ]]\n",
      "precision: 48.0\n",
      "seed_l1: [], seed_l2: []\n"
     ]
    }
   ],
   "source": [
    "if __name__ == '__main__':\n",
    "    args = parse_args()\n",
    "    main(args)"
   ]
  }
 ],
 "metadata": {
  "kernelspec": {
   "display_name": "Python 3",
   "language": "python",
   "name": "python3"
  },
  "language_info": {
   "codemirror_mode": {
    "name": "ipython",
    "version": 3
   },
   "file_extension": ".py",
   "mimetype": "text/x-python",
   "name": "python",
   "nbconvert_exporter": "python",
   "pygments_lexer": "ipython3",
   "version": "3.7.2 (tags/v3.7.2:9a3ffc0492, Dec 23 2018, 23:09:28) [MSC v.1916 64 bit (AMD64)]"
  },
  "orig_nbformat": 4,
  "vscode": {
   "interpreter": {
    "hash": "8a5edab282632443219e051e4ade2d1d5bbc671c781051bf1437897cbdfea0f1"
   }
  }
 },
 "nbformat": 4,
 "nbformat_minor": 2
}
